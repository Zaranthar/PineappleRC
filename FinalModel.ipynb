{
 "cells": [
  {
   "cell_type": "code",
   "execution_count": 1,
   "id": "c29a0972",
   "metadata": {},
   "outputs": [],
   "source": [
    "from keras.layers import Input,Lambda,Dense,Flatten\n",
    "from keras.models import Model \n",
    "from keras.applications.vgg16 import VGG16 \n",
    "from keras.applications.vgg16 import preprocess_input\n",
    "from keras.preprocessing import image\n",
    "from keras.preprocessing.image import ImageDataGenerator\n",
    "from keras.models import Sequential\n",
    "import numpy as np"
   ]
  },
  {
   "cell_type": "code",
   "execution_count": 2,
   "id": "dabd37cd",
   "metadata": {},
   "outputs": [
    {
     "name": "stdout",
     "output_type": "stream",
     "text": [
      "Model: \"model\"\n",
      "_________________________________________________________________\n",
      " Layer (type)                Output Shape              Param #   \n",
      "=================================================================\n",
      " input_1 (InputLayer)        [(None, 224, 224, 3)]     0         \n",
      "                                                                 \n",
      " block1_conv1 (Conv2D)       (None, 224, 224, 64)      1792      \n",
      "                                                                 \n",
      " block1_conv2 (Conv2D)       (None, 224, 224, 64)      36928     \n",
      "                                                                 \n",
      " block1_pool (MaxPooling2D)  (None, 112, 112, 64)      0         \n",
      "                                                                 \n",
      " block2_conv1 (Conv2D)       (None, 112, 112, 128)     73856     \n",
      "                                                                 \n",
      " block2_conv2 (Conv2D)       (None, 112, 112, 128)     147584    \n",
      "                                                                 \n",
      " block2_pool (MaxPooling2D)  (None, 56, 56, 128)       0         \n",
      "                                                                 \n",
      " block3_conv1 (Conv2D)       (None, 56, 56, 256)       295168    \n",
      "                                                                 \n",
      " block3_conv2 (Conv2D)       (None, 56, 56, 256)       590080    \n",
      "                                                                 \n",
      " block3_conv3 (Conv2D)       (None, 56, 56, 256)       590080    \n",
      "                                                                 \n",
      " block3_pool (MaxPooling2D)  (None, 28, 28, 256)       0         \n",
      "                                                                 \n",
      " block4_conv1 (Conv2D)       (None, 28, 28, 512)       1180160   \n",
      "                                                                 \n",
      " block4_conv2 (Conv2D)       (None, 28, 28, 512)       2359808   \n",
      "                                                                 \n",
      " block4_conv3 (Conv2D)       (None, 28, 28, 512)       2359808   \n",
      "                                                                 \n",
      " block4_pool (MaxPooling2D)  (None, 14, 14, 512)       0         \n",
      "                                                                 \n",
      " block5_conv1 (Conv2D)       (None, 14, 14, 512)       2359808   \n",
      "                                                                 \n",
      " block5_conv2 (Conv2D)       (None, 14, 14, 512)       2359808   \n",
      "                                                                 \n",
      " block5_conv3 (Conv2D)       (None, 14, 14, 512)       2359808   \n",
      "                                                                 \n",
      " block5_pool (MaxPooling2D)  (None, 7, 7, 512)         0         \n",
      "                                                                 \n",
      " flatten (Flatten)           (None, 25088)             0         \n",
      "                                                                 \n",
      " dense (Dense)               (None, 3)                 75267     \n",
      "                                                                 \n",
      "=================================================================\n",
      "Total params: 14,789,955\n",
      "Trainable params: 75,267\n",
      "Non-trainable params: 14,714,688\n",
      "_________________________________________________________________\n"
     ]
    }
   ],
   "source": [
    "### Defining Image size\n",
    "IMAGE_SIZE = [224, 224]\n",
    "### Loading model\n",
    "vgg = VGG16(input_shape=IMAGE_SIZE + [3], weights='imagenet', include_top=False)\n",
    "### Freezing layers\n",
    "for layer in vgg.layers:  \n",
    "  layer.trainable = False\n",
    "### adding a 3 node final layer for predicion\n",
    "x = Flatten()(vgg.output)\n",
    "prediction = Dense(3, activation='softmax')(x)\n",
    "model = Model(inputs=vgg.input, outputs=prediction)\n",
    "### Generating Summary\n",
    "model.summary()"
   ]
  },
  {
   "cell_type": "code",
   "execution_count": 3,
   "id": "1430ccfb",
   "metadata": {},
   "outputs": [],
   "source": [
    "model.compile( loss='categorical_crossentropy',  \n",
    "               optimizer='adam',  \n",
    "               metrics=['accuracy'])"
   ]
  },
  {
   "cell_type": "code",
   "execution_count": 4,
   "id": "a8fd2172",
   "metadata": {},
   "outputs": [
    {
     "name": "stdout",
     "output_type": "stream",
     "text": [
      "Found 1323 images belonging to 3 classes.\n"
     ]
    }
   ],
   "source": [
    "train_datagen = ImageDataGenerator(rescale = 1./255,                          \n",
    "                                    shear_range = 0.2,\n",
    "                                   zoom_range = 0.2,\n",
    "                                    horizontal_flip= True)\n",
    "training_set = train_datagen.flow_from_directory('train2/train',\n",
    "                                           target_size = (224, 224),\n",
    "                                             batch_size = 16,                             \n",
    "                                        class_mode = 'categorical')"
   ]
  },
  {
   "cell_type": "code",
   "execution_count": 5,
   "id": "d81ca60d",
   "metadata": {},
   "outputs": [
    {
     "name": "stdout",
     "output_type": "stream",
     "text": [
      "Found 332 images belonging to 3 classes.\n"
     ]
    }
   ],
   "source": [
    "test_datagen = ImageDataGenerator(rescale = 1./255)\n",
    "test_set = test_datagen.flow_from_directory('train2/val',\n",
    "                                         target_size = (224, 224),\n",
    "                                         batch_size=16,\n",
    "                                         class_mode = 'categorical')"
   ]
  },
  {
   "cell_type": "code",
   "execution_count": 6,
   "id": "1255d96b",
   "metadata": {},
   "outputs": [
    {
     "name": "stdout",
     "output_type": "stream",
     "text": [
      "Epoch 1/10\n",
      "83/83 [==============================] - 210s 3s/step - loss: 0.4688 - accuracy: 0.8450 - val_loss: 0.4038 - val_accuracy: 0.8735\n",
      "Epoch 2/10\n",
      "83/83 [==============================] - 214s 3s/step - loss: 0.2723 - accuracy: 0.9055 - val_loss: 0.2995 - val_accuracy: 0.8916\n",
      "Epoch 3/10\n",
      "83/83 [==============================] - 217s 3s/step - loss: 0.1896 - accuracy: 0.9342 - val_loss: 0.2693 - val_accuracy: 0.9036\n",
      "Epoch 4/10\n",
      "83/83 [==============================] - 216s 3s/step - loss: 0.1818 - accuracy: 0.9365 - val_loss: 0.2710 - val_accuracy: 0.9157\n",
      "Epoch 5/10\n",
      "83/83 [==============================] - 219s 3s/step - loss: 0.1556 - accuracy: 0.9494 - val_loss: 0.2313 - val_accuracy: 0.9217\n",
      "Epoch 6/10\n",
      "83/83 [==============================] - 218s 3s/step - loss: 0.0875 - accuracy: 0.9690 - val_loss: 0.2379 - val_accuracy: 0.9277\n",
      "Epoch 7/10\n",
      "83/83 [==============================] - 217s 3s/step - loss: 0.0748 - accuracy: 0.9751 - val_loss: 0.1835 - val_accuracy: 0.9367\n",
      "Epoch 8/10\n",
      "83/83 [==============================] - 216s 3s/step - loss: 0.0629 - accuracy: 0.9766 - val_loss: 0.1901 - val_accuracy: 0.9428\n",
      "Epoch 9/10\n",
      "83/83 [==============================] - 214s 3s/step - loss: 0.0675 - accuracy: 0.9743 - val_loss: 0.1904 - val_accuracy: 0.9398\n",
      "Epoch 10/10\n",
      "83/83 [==============================] - 212s 3s/step - loss: 0.0564 - accuracy: 0.9788 - val_loss: 0.2233 - val_accuracy: 0.9428\n"
     ]
    }
   ],
   "source": [
    "history = model.fit(training_set,  validation_data=test_set,  epochs=10,steps_per_epoch=len(training_set),validation_steps=len(test_set))"
   ]
  },
  {
   "cell_type": "code",
   "execution_count": 7,
   "id": "bbc5df78",
   "metadata": {},
   "outputs": [
    {
     "name": "stdout",
     "output_type": "stream",
     "text": [
      "dict_keys(['loss', 'accuracy', 'val_loss', 'val_accuracy'])\n"
     ]
    },
    {
     "data": {
      "image/png": "[encoded data removed]",
      "text/plain": [
       "<Figure size 432x288 with 1 Axes>"
      ]
     },
     "metadata": {
      "needs_background": "light"
     },
     "output_type": "display_data"
    }
   ],
   "source": [
    "import matplotlib.pyplot as plt\n",
    "# list all data in history\n",
    "print(history.history.keys())\n",
    "# summarize history for accuracy\n",
    "plt.plot(history.history['accuracy'])\n",
    "plt.plot(history.history['val_accuracy'])\n",
    "plt.title('model accuracy')\n",
    "plt.ylabel('accuracy')\n",
    "plt.xlabel('epoch')\n",
    "plt.legend(['train', 'test'], loc='upper left')\n",
    "plt.show()"
   ]
  },
  {
   "cell_type": "code",
   "execution_count": 8,
   "id": "3ff42045",
   "metadata": {},
   "outputs": [
    {
     "data": {
      "image/png": "[encoded data removed]",
      "text/plain": [
       "<Figure size 432x288 with 1 Axes>"
      ]
     },
     "metadata": {
      "needs_background": "light"
     },
     "output_type": "display_data"
    }
   ],
   "source": [
    "# summarize history for loss\n",
    "plt.plot(history.history['loss'])\n",
    "plt.plot(history.history['val_loss'])\n",
    "plt.title('model loss')\n",
    "plt.ylabel('loss')\n",
    "plt.xlabel('epoch')\n",
    "plt.legend(['train', 'test'], loc='upper left')\n",
    "plt.show()"
   ]
  },
  {
   "cell_type": "code",
   "execution_count": 9,
   "id": "cdd8d154",
   "metadata": {},
   "outputs": [],
   "source": [
    "model.save(\"pineappleindex.h5\")"
   ]
  },
  {
   "cell_type": "code",
   "execution_count": null,
   "id": "55ba4953",
   "metadata": {},
   "outputs": [],
   "source": []
  }
 ],
 "metadata": {
  "kernelspec": {
   "display_name": "Python 3 (ipykernel)",
   "language": "python",
   "name": "python3"
  },
  "language_info": {
   "codemirror_mode": {
    "name": "ipython",
    "version": 3
   },
   "file_extension": ".py",
   "mimetype": "text/x-python",
   "name": "python",
   "nbconvert_exporter": "python",
   "pygments_lexer": "ipython3",
   "version": "3.9.7"
  }
 },
 "nbformat": 4,
 "nbformat_minor": 5
}
